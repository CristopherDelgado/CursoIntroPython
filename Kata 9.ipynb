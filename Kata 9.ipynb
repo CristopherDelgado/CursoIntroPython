{
 "cells": [
  {
   "cell_type": "markdown",
   "metadata": {},
   "source": [
    "Ejercicio 1: Trabajar con argumentos en funciones"
   ]
  },
  {
   "cell_type": "code",
   "execution_count": 2,
   "metadata": {},
   "outputs": [],
   "source": [
    "def generate_report(main_tank, external_tank , hydrogen_tank):\n",
    "    total_average = (main_tank + external_tank + hydrogen_tank) / 3\n",
    "    return f\"\"\"Fuel Report:\n",
    "    Total Average: {total_average}%\n",
    "    Main tank: {main_tank}%\n",
    "    External tank: {external_tank}%\n",
    "    Hydrogen tank: {hydrogen_tank}% \n",
    "    \"\"\""
   ]
  },
  {
   "cell_type": "code",
   "execution_count": 3,
   "metadata": {},
   "outputs": [
    {
     "name": "stdout",
     "output_type": "stream",
     "text": [
      "Fuel Report:\n",
      "    Total Average: 52.333333333333336%\n",
      "    Main tank: 60%\n",
      "    External tank: 40%\n",
      "    Hydrogen tank: 57% \n",
      "    \n"
     ]
    }
   ],
   "source": [
    "print(generate_report(60, 40, 57))"
   ]
  },
  {
   "cell_type": "code",
   "execution_count": 4,
   "metadata": {},
   "outputs": [],
   "source": [
    "def average(values):\n",
    "    total = sum(values)\n",
    "    number_of_items = len(values)\n",
    "    return total / number_of_items"
   ]
  },
  {
   "cell_type": "code",
   "execution_count": 5,
   "metadata": {},
   "outputs": [
    {
     "data": {
      "text/plain": [
       "52.333333333333336"
      ]
     },
     "execution_count": 5,
     "metadata": {},
     "output_type": "execute_result"
    }
   ],
   "source": [
    "average([60, 40, 57])"
   ]
  },
  {
   "cell_type": "code",
   "execution_count": 6,
   "metadata": {},
   "outputs": [],
   "source": [
    "def generate_report(main_tank, external_tank, hydrogen_tank):\n",
    "    return f\"\"\"Fuel Report:\n",
    "    Total Average: {average([main_tank, external_tank, hydrogen_tank])}%\n",
    "    Main tank: {main_tank}%\n",
    "    External tank: {external_tank}%\n",
    "    Hydrogen tank: {hydrogen_tank}% \n",
    "    \"\"\""
   ]
  },
  {
   "cell_type": "code",
   "execution_count": 7,
   "metadata": {},
   "outputs": [
    {
     "name": "stdout",
     "output_type": "stream",
     "text": [
      "Fuel Report:\n",
      "    Total Average: 70.66666666666667%\n",
      "    Main tank: 85%\n",
      "    External tank: 54%\n",
      "    Hydrogen tank: 73% \n",
      "    \n"
     ]
    }
   ],
   "source": [
    "print(generate_report(85, 54, 73))"
   ]
  },
  {
   "cell_type": "markdown",
   "metadata": {},
   "source": [
    "Ejercicio 2: Trabajo con argumentos de palabra clave"
   ]
  },
  {
   "cell_type": "code",
   "execution_count": 9,
   "metadata": {},
   "outputs": [
    {
     "name": "stdout",
     "output_type": "stream",
     "text": [
      "\n",
      "    Mision a Moon\n",
      "    Tiempo total del viaje: 96 minutos\n",
      "    Total del combustible gastado: 640000 gallones\n",
      "    \n"
     ]
    }
   ],
   "source": [
    "def mission_report(pre_launch_time, flight_time, destination, external_tank, main_tank):\n",
    "    return f\"\"\"\n",
    "    Mision a {destination}\n",
    "    Tiempo total del viaje: {pre_launch_time + flight_time} minutos\n",
    "    Total del combustible gastado: {external_tank + main_tank} gallones\n",
    "    \"\"\"\n",
    "\n",
    "print(mission_report(40, 56, \"Moon\", 140000, 500000))"
   ]
  },
  {
   "cell_type": "code",
   "execution_count": 10,
   "metadata": {},
   "outputs": [
    {
     "name": "stdout",
     "output_type": "stream",
     "text": [
      "\n",
      "    Mision a  Moon\n",
      "    Tiempo total del viaje: 86 minutos\n",
      "    Total del combustible gastado: 1000000\n",
      "    \n"
     ]
    }
   ],
   "source": [
    "def mission_report(destino, *minutes, **fuel_reservoirs):\n",
    "    return f\"\"\"\n",
    "    Mision a  {destino}\n",
    "    Tiempo total del viaje: {sum(minutes)} minutos\n",
    "    Total del combustible gastado: {sum(fuel_reservoirs.values())}\n",
    "    \"\"\"\n",
    "\n",
    "print(mission_report(\"Moon\", 30, 32, 24, main=890000, external=110000))"
   ]
  },
  {
   "cell_type": "code",
   "execution_count": 11,
   "metadata": {},
   "outputs": [
    {
     "name": "stdout",
     "output_type": "stream",
     "text": [
      "\n",
      "    Mision a Moon\n",
      "    Tiempo total del viaje: 106 minutes\n",
      "    Total del combustible gastado: 840000\n",
      "    main tank --> 660000 gallones gastados\n",
      "external tank --> 180000 gallones gastados\n",
      "\n"
     ]
    }
   ],
   "source": [
    "def mission_report(destino, *minutos, **fuel_reservoirs):\n",
    "    main_report = f\"\"\"\n",
    "    Mision a {destino}\n",
    "    Tiempo total del viaje: {sum(minutos)} minutes\n",
    "    Total del combustible gastado: {sum(fuel_reservoirs.values())}\n",
    "    \"\"\"\n",
    "    for tank_name, gallones in fuel_reservoirs.items():\n",
    "        main_report += f\"{tank_name} tank --> {gallones} gallones gastados\\n\"\n",
    "    return main_report\n",
    "\n",
    "print(mission_report(\"Moon\", 3, 15, 88, main=660000, external=180000))"
   ]
  }
 ],
 "metadata": {
  "interpreter": {
   "hash": "f08f36d806eb7216ef903d7ea7ed452c9228c24a37d8bd9ca2f3ff7ab2e23d55"
  },
  "kernelspec": {
   "display_name": "Python 3.10.2 64-bit",
   "language": "python",
   "name": "python3"
  },
  "language_info": {
   "codemirror_mode": {
    "name": "ipython",
    "version": 3
   },
   "file_extension": ".py",
   "mimetype": "text/x-python",
   "name": "python",
   "nbconvert_exporter": "python",
   "pygments_lexer": "ipython3",
   "version": "3.10.2"
  },
  "orig_nbformat": 4
 },
 "nbformat": 4,
 "nbformat_minor": 2
}
